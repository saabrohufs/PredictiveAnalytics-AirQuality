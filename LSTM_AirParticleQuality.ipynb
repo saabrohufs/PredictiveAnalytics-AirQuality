{
 "cells": [
  {
   "cell_type": "code",
   "execution_count": null,
   "id": "69011208",
   "metadata": {},
   "outputs": [],
   "source": [
    "# Predictive Analytics of Air Quality for IoT- Enabled Industrial Environments"
   ]
  },
  {
   "cell_type": "code",
   "execution_count": null,
   "id": "4f71d506",
   "metadata": {},
   "outputs": [],
   "source": [
    "# LSTM model Implementation"
   ]
  },
  {
   "cell_type": "code",
   "execution_count": null,
   "id": "a9300453",
   "metadata": {},
   "outputs": [],
   "source": [
    "import pandas as pd\n",
    "import numpy as np\n",
    "from sklearn.model_selection import train_test_split\n",
    "from sklearn.preprocessing import MinMaxScaler\n",
    "\n",
    "# Load your dataset\n",
    "file_path = 'data/airparticle.csv'  # Replace with your file path\n",
    "df = pd.read_csv(file_path)\n",
    "\n",
    "# Ensure the timestamp column is in datetime format\n",
    "df['ts_received'] = pd.to_datetime(df['ts_received'])\n",
    "\n",
    "# Sort the data based on time\n",
    "df = df.sort_values('ts_received')\n",
    "\n",
    "# Select the features and target for prediction (predicting 'co2' in this example)\n",
    "features = ['voc', 'mc_1p0', 'mc_2p5', 'mc_10p0', 'mc_4p0', 'ambient_rh', 'ambient_t', 'nox_index', 'voc_index']\n",
    "target = 'co2'\n",
    "\n",
    "# Note: Each air quality pollutant target is tested seperately\n",
    "# please switch between your target variable for the required prediction\n",
    "\n",
    "#target = 'voc'\n",
    "#target = 'mc_2p5'\n",
    "#target = 'mc_10p0'\n",
    "#target = 'nox_index'\n",
    "\n",
    "\n",
    "# Normalizing the feature columns\n",
    "scaler_X = MinMaxScaler()\n",
    "X_scaled = scaler_X.fit_transform(df[features])\n",
    "\n",
    "# Normalize the target separately\n",
    "scaler_y = MinMaxScaler()\n",
    "y_scaled = scaler_y.fit_transform(df[[target]])\n",
    "\n",
    "# Define the input (X) and output (y) again after scaling\n",
    "X = X_scaled\n",
    "y = y_scaled"
   ]
  },
  {
   "cell_type": "code",
   "execution_count": null,
   "id": "ca934663",
   "metadata": {},
   "outputs": [],
   "source": [
    "# Create sequences\n",
    "def create_sequences(X, y, time_steps=10):\n",
    "    Xs, ys = [], []\n",
    "    for i in range(len(X) - time_steps):\n",
    "        Xs.append(X[i:i+time_steps])\n",
    "        ys.append(y[i+time_steps])\n",
    "    return np.array(Xs), np.array(ys)\n",
    "\n",
    "time_steps = 10\n",
    "X_seq, y_seq = create_sequences(X, y, time_steps)\n",
    "\n",
    "# Train-test split (80% train, 20% test)\n",
    "X_train, X_test, y_train, y_test = train_test_split(X_seq, y_seq, test_size=0.2, shuffle=False)\n"
   ]
  },
  {
   "cell_type": "code",
   "execution_count": null,
   "id": "3d380bc5",
   "metadata": {},
   "outputs": [],
   "source": [
    "import tensorflow as tf\n",
    "from tensorflow.keras.models import Sequential\n",
    "from tensorflow.keras.layers import LSTM, Dense, Dropout\n",
    "\n",
    "# Define the LSTM model\n",
    "model = Sequential()\n",
    "model.add(LSTM(units=50, return_sequences=False, input_shape=(X_train.shape[1], X_train.shape[2])))\n",
    "model.add(Dropout(0.2))  # To prevent overfitting\n",
    "model.add(Dense(units=1))  # Predict one value (e.g., CO2)\n",
    "\n",
    "# Compile the model\n",
    "model.compile(optimizer='adam', loss='mean_squared_error', metrics=['mean_absolute_error'])\n"
   ]
  },
  {
   "cell_type": "code",
   "execution_count": null,
   "id": "f6084f65",
   "metadata": {},
   "outputs": [],
   "source": [
    "# Train the LSTM model\n",
    "history = model.fit(X_train, y_train, epochs=25, batch_size=32, validation_data=(X_test, y_test))"
   ]
  },
  {
   "cell_type": "code",
   "execution_count": null,
   "id": "b857716f",
   "metadata": {},
   "outputs": [],
   "source": [
    "# Evaluate the model on the test data\n",
    "test_loss = model.evaluate(X_test, y_test)\n",
    "\n",
    "# Predict on the test set\n",
    "y_pred = model.predict(X_test)\n",
    "\n",
    "# Rescale predictions back to the original CO2 scale\n",
    "y_pred_rescaled = scaler_y.inverse_transform(y_pred)\n",
    "\n",
    "# Rescale the true test values as well for comparison\n",
    "y_test_rescaled = scaler_y.inverse_transform(y_test)\n",
    "\n",
    "# Print the test loss\n",
    "print(f\"Test Loss: {test_loss}\")"
   ]
  },
  {
   "cell_type": "code",
   "execution_count": null,
   "id": "b89e0921",
   "metadata": {},
   "outputs": [],
   "source": [
    "import matplotlib.pyplot as plt\n",
    "\n",
    "# Plot the true vs predicted CO2 levels\n",
    "plt.figure(figsize=(14, 5))\n",
    "plt.plot(y_test_rescaled, label='True CO2 levels')\n",
    "plt.plot(y_pred_rescaled, label='Predicted CO2 levels', linestyle='--')\n",
    "plt.title('True vs Predicted CO2 Levels')\n",
    "plt.xlabel('Time Steps')\n",
    "plt.ylabel('CO2 Levels')\n",
    "plt.legend()\n",
    "plt.show()"
   ]
  },
  {
   "cell_type": "code",
   "execution_count": null,
   "id": "93c8c1de",
   "metadata": {},
   "outputs": [],
   "source": [
    "# summarize history for loss\n",
    "plt.plot(history.history['loss'])\n",
    "plt.plot(history.history['val_loss'])\n",
    "plt.title('model loss')\n",
    "plt.ylabel('loss')\n",
    "plt.xlabel('epoch')\n",
    "plt.legend(['train', 'test'], loc='upper left')\n",
    "plt.show()"
   ]
  },
  {
   "cell_type": "code",
   "execution_count": null,
   "id": "b12127fc",
   "metadata": {},
   "outputs": [],
   "source": [
    "# summarize history for accuracy\n",
    "import matplotlib.pyplot as plt\n",
    "\n",
    "# Plot Mean Absolute Error (MAE) for training and validation\n",
    "plt.plot(history.history['mean_absolute_error'])\n",
    "plt.plot(history.history['val_mean_absolute_error'])\n",
    "plt.title('Model MAE')\n",
    "plt.ylabel('Mean Absolute Error')\n",
    "plt.xlabel('Epoch')\n",
    "plt.legend(['Train', 'Validation'], loc='upper left')\n",
    "plt.show()"
   ]
  }
 ],
 "metadata": {
  "kernelspec": {
   "display_name": "Python 3 (ipykernel)",
   "language": "python",
   "name": "python3"
  },
  "language_info": {
   "codemirror_mode": {
    "name": "ipython",
    "version": 3
   },
   "file_extension": ".py",
   "mimetype": "text/x-python",
   "name": "python",
   "nbconvert_exporter": "python",
   "pygments_lexer": "ipython3",
   "version": "3.10.9"
  }
 },
 "nbformat": 4,
 "nbformat_minor": 5
}
